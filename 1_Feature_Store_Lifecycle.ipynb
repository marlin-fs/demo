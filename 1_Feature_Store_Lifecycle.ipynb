{
 "cells": [
  {
   "cell_type": "markdown",
   "metadata": {},
   "source": [
    "# Feature Store Lifecycle: Audience Selection for Direct Mail Marketing"
   ]
  },
  {
   "cell_type": "markdown",
   "metadata": {},
   "source": [
    "In this notebook, we will cover how to register, ingest, and access features in Tern's Feature Store.  \n",
    "\n",
    "We will complete the following steps:\n",
    "1. [Background](#Background)\n",
    "2. [Data Preparation](#Data-Preparation)\n",
    "3. [Ingest to Feature Store](#Ingest-to-Feature-Store)\n",
    "4. [Retrieve Online Features](#Retrieve-Online-Features)\n",
    "5. [Get Batch Features](#Get-Batch-Features)"
   ]
  },
  {
   "cell_type": "markdown",
   "metadata": {},
   "source": [
    "## Background"
   ]
  },
  {
   "cell_type": "markdown",
   "metadata": {},
   "source": [
    "We will be using a direct mail marketing dataset to walk through how to work with Tern Feature Store client. The data includes demographic, campaign, macro-economic indicators and other attribues. Our goal is to select a direct mail audience by building a model that can predict `if a customer will enroll for a term deposit at a bank, after one or more phone calls`.  \n",
    "\n",
    "Before getting started review:\n",
    "- Tern API documentation @ https://docs.tern.ai\n",
    "- Feature discovery @ http://amundsen.sandbox.tern.ai\n",
    "\n",
    "[Moro et al., 2014] S. Moro, P. Cortez and P. Rita. A Data-Driven Approach to Predict the Success of Bank Telemarketing. Decision Support Systems, Elsevier, 62:22-31, June 2014"
   ]
  },
  {
   "cell_type": "markdown",
   "metadata": {},
   "source": [
    "For our walk-through, we have broken the orginal dataset into 3 datasets below:\n",
    "- demo_data.feather: Demographic data for every customer\n",
    "- campaign_data.feather: Campaign information for every customer and campaign \n",
    "- dataset_target.feather: Dataset that has macroecnomic indicators, other features, target/label and target timestamp. We will use data for model building in the last step in this notebook."
   ]
  },
  {
   "cell_type": "markdown",
   "metadata": {},
   "source": [
    "## Data Preparation"
   ]
  },
  {
   "cell_type": "markdown",
   "metadata": {},
   "source": [
    "Let's import the python libraries and the feature store client modules."
   ]
  },
  {
   "cell_type": "code",
   "execution_count": 8,
   "metadata": {},
   "outputs": [],
   "source": [
    "from datetime import datetime\n",
    "import numpy as np\n",
    "import pandas as pd\n",
    "pd.set_option('display.max_columns', 500)     # Make sure we can see all of the columns\n",
    "pd.set_option('display.max_rows', 20)         # Keep the output on one page\n",
    "import matplotlib.pyplot as plt                   # For charts and visualizations\n",
    "from IPython.display import Image                 # For displaying images in the notebook\n",
    "from IPython.display import display               # For displaying outputs in the notebook\n",
    "from time import gmtime, strftime                \n",
    "import feather\n",
    "import s3fs\n",
    "import fsspec\n",
    "from data_prep import stratified_sample\n",
    "from data_prep import extract_feature_list\n",
    "from client import MarlinServiceClient\n",
    "from marlin_service_pb2 import DataType"
   ]
  },
  {
   "cell_type": "markdown",
   "metadata": {},
   "source": [
    "To access Tern's Feature Store, we need to configure the server address, port and location where offline features will be stored. This can be configured to access Cloud Data Wareshouses such as Snowflake, Google Big Query, AWS Redshift. "
   ]
  },
  {
   "cell_type": "code",
   "execution_count": 9,
   "metadata": {},
   "outputs": [],
   "source": [
    "SERVER_ADDRESS = 'marlin-api-service.default.svc.cluster.local'\n",
    "PORT = 6060\n",
    "LOCATION_BATCH_FEATURES = \"s3://marlin-offline-store/store-data\"\n",
    "\n",
    "client = MarlinServiceClient(SERVER_ADDRESS, PORT, LOCATION_BATCH_FEATURES)"
   ]
  },
  {
   "cell_type": "markdown",
   "metadata": {},
   "source": [
    "Now we are ready to load and ingest features."
   ]
  },
  {
   "cell_type": "markdown",
   "metadata": {},
   "source": [
    "## Ingest to Feature Store"
   ]
  },
  {
   "cell_type": "markdown",
   "metadata": {},
   "source": [
    "### Feature Group 1 - Demographic Data:"
   ]
  },
  {
   "cell_type": "markdown",
   "metadata": {},
   "source": [
    "Let's start with importing the demographic data and ingesting to Feature Store for both online and offline availability."
   ]
  },
  {
   "cell_type": "code",
   "execution_count": 10,
   "metadata": {},
   "outputs": [
    {
     "data": {
      "text/html": [
       "<div>\n",
       "<style scoped>\n",
       "    .dataframe tbody tr th:only-of-type {\n",
       "        vertical-align: middle;\n",
       "    }\n",
       "\n",
       "    .dataframe tbody tr th {\n",
       "        vertical-align: top;\n",
       "    }\n",
       "\n",
       "    .dataframe thead th {\n",
       "        text-align: right;\n",
       "    }\n",
       "</style>\n",
       "<table border=\"1\" class=\"dataframe\">\n",
       "  <thead>\n",
       "    <tr style=\"text-align: right;\">\n",
       "      <th></th>\n",
       "      <th>cust_id</th>\n",
       "      <th>age</th>\n",
       "      <th>job</th>\n",
       "      <th>marital</th>\n",
       "      <th>education</th>\n",
       "    </tr>\n",
       "  </thead>\n",
       "  <tbody>\n",
       "    <tr>\n",
       "      <th>0</th>\n",
       "      <td>100</td>\n",
       "      <td>56</td>\n",
       "      <td>housemaid</td>\n",
       "      <td>married</td>\n",
       "      <td>basic.4y</td>\n",
       "    </tr>\n",
       "    <tr>\n",
       "      <th>1</th>\n",
       "      <td>101</td>\n",
       "      <td>57</td>\n",
       "      <td>services</td>\n",
       "      <td>married</td>\n",
       "      <td>high.school</td>\n",
       "    </tr>\n",
       "    <tr>\n",
       "      <th>2</th>\n",
       "      <td>102</td>\n",
       "      <td>37</td>\n",
       "      <td>services</td>\n",
       "      <td>married</td>\n",
       "      <td>high.school</td>\n",
       "    </tr>\n",
       "    <tr>\n",
       "      <th>3</th>\n",
       "      <td>103</td>\n",
       "      <td>40</td>\n",
       "      <td>admin.</td>\n",
       "      <td>married</td>\n",
       "      <td>basic.6y</td>\n",
       "    </tr>\n",
       "    <tr>\n",
       "      <th>4</th>\n",
       "      <td>104</td>\n",
       "      <td>56</td>\n",
       "      <td>services</td>\n",
       "      <td>married</td>\n",
       "      <td>high.school</td>\n",
       "    </tr>\n",
       "  </tbody>\n",
       "</table>\n",
       "</div>"
      ],
      "text/plain": [
       "   cust_id  age        job  marital    education\n",
       "0      100   56  housemaid  married     basic.4y\n",
       "1      101   57   services  married  high.school\n",
       "2      102   37   services  married  high.school\n",
       "3      103   40     admin.  married     basic.6y\n",
       "4      104   56   services  married  high.school"
      ]
     },
     "execution_count": 10,
     "metadata": {},
     "output_type": "execute_result"
    }
   ],
   "source": [
    "df1 = pd.read_feather('data/demo_data.feather')\n",
    "df1.head(5)"
   ]
  },
  {
   "cell_type": "markdown",
   "metadata": {},
   "source": [
    "#### Demographic Data Definition:\n",
    "\n",
    "age: Customer's age (numeric)  \n",
    "job: Type of job (categorical: 'admin.', 'services', ...)  \n",
    "marital: Marital status (categorical: 'married', 'single', ...)  \n",
    "education: Level of education (categorical: 'basic.4y', 'high.school', ...)"
   ]
  },
  {
   "cell_type": "markdown",
   "metadata": {},
   "source": [
    "#### Feature Group Registration & Feature Ingestion:"
   ]
  },
  {
   "cell_type": "code",
   "execution_count": 12,
   "metadata": {},
   "outputs": [
    {
     "data": {
      "text/plain": [
       "1588204800"
      ]
     },
     "execution_count": 12,
     "metadata": {},
     "output_type": "execute_result"
    }
   ],
   "source": [
    "# We will set some names for ease of use later.\n",
    "feature_group_demographics = \"demographics\"\n",
    "entity_name_cid = \"cust_id\"\n",
    "entity_value_type_cid = DataType.LONG\n",
    "event_ts_cid = int(datetime.timestamp(datetime(2020,4,30))) # 04/30/2020 @ 12:00am (UTC)"
   ]
  },
  {
   "cell_type": "markdown",
   "metadata": {},
   "source": [
    "```\n",
    "Register features in the store by defining feature group name\n",
    "Arguments:\n",
    "feature_group_name - Name of the feature group\n",
    "online             - Indicate whether features of this feature group be available for low latency online access \n",
    "offline            - Flag to indicate whether features of this feature group be available for batch access\n",
    "author             - Person or userid creating the feature group\n",
    "source_code        - metadata about source code generating the features. Example, link to source code\n",
    "entities           - dictionary of entity names and their data type\n",
    "features           - dictionary of feature names and their data type\n",
    "```"
   ]
  },
  {
   "cell_type": "code",
   "execution_count": 5,
   "metadata": {},
   "outputs": [
    {
     "name": "stdout",
     "output_type": "stream",
     "text": [
      "CPU times: user 2.05 ms, sys: 0 ns, total: 2.05 ms\n",
      "Wall time: 12.6 ms\n"
     ]
    },
    {
     "data": {
      "text/plain": []
     },
     "execution_count": 5,
     "metadata": {},
     "output_type": "execute_result"
    }
   ],
   "source": [
    "%%time\n",
    "\n",
    "client.register_feature_group(feature_group_name=feature_group_demographics,\n",
    "                              author=\"John S\",\n",
    "                              online=True,\n",
    "                              offline=True,\n",
    "                              source_code=\"customer_demographics.py\",\n",
    "                              entities={entity_name_cid : entity_value_type_cid},\n",
    "                              features={'age': DataType.LONG, \n",
    "                                        'job': DataType.STRING,\n",
    "                                        'marital': DataType.STRING, \n",
    "                                        'education': DataType.STRING})"
   ]
  },
  {
   "cell_type": "code",
   "execution_count": 6,
   "metadata": {},
   "outputs": [
    {
     "name": "stdout",
     "output_type": "stream",
     "text": [
      "CPU times: user 10.3 s, sys: 1.22 s, total: 11.5 s\n",
      "Wall time: 15 s\n"
     ]
    }
   ],
   "source": [
    "%%time\n",
    "\n",
    "# Ingest features in the dataframe to the feature store based on the feature registeration above.\n",
    "\n",
    "client.feature_ingest(data=df1,\n",
    "                      entities=entity_name_cid,\n",
    "                      feature_group_name=feature_group_demographics,\n",
    "                      event_timestamp=event_ts_cid)"
   ]
  },
  {
   "cell_type": "markdown",
   "metadata": {},
   "source": [
    "### Feature Group 2: Campaign information"
   ]
  },
  {
   "cell_type": "markdown",
   "metadata": {},
   "source": [
    "Let's import the second camapaign information dataset and ingesting to Feature Store for both online and offline availability."
   ]
  },
  {
   "cell_type": "code",
   "execution_count": 5,
   "metadata": {},
   "outputs": [
    {
     "data": {
      "text/html": [
       "<div>\n",
       "<style scoped>\n",
       "    .dataframe tbody tr th:only-of-type {\n",
       "        vertical-align: middle;\n",
       "    }\n",
       "\n",
       "    .dataframe tbody tr th {\n",
       "        vertical-align: top;\n",
       "    }\n",
       "\n",
       "    .dataframe thead th {\n",
       "        text-align: right;\n",
       "    }\n",
       "</style>\n",
       "<table border=\"1\" class=\"dataframe\">\n",
       "  <thead>\n",
       "    <tr style=\"text-align: right;\">\n",
       "      <th></th>\n",
       "      <th>cust_id</th>\n",
       "      <th>campaign_id</th>\n",
       "      <th>campaign</th>\n",
       "      <th>pdays</th>\n",
       "      <th>previous</th>\n",
       "      <th>poutcome</th>\n",
       "    </tr>\n",
       "  </thead>\n",
       "  <tbody>\n",
       "    <tr>\n",
       "      <th>0</th>\n",
       "      <td>100</td>\n",
       "      <td>1010</td>\n",
       "      <td>1</td>\n",
       "      <td>999</td>\n",
       "      <td>0</td>\n",
       "      <td>nonexistent</td>\n",
       "    </tr>\n",
       "    <tr>\n",
       "      <th>1</th>\n",
       "      <td>101</td>\n",
       "      <td>1011</td>\n",
       "      <td>1</td>\n",
       "      <td>999</td>\n",
       "      <td>0</td>\n",
       "      <td>nonexistent</td>\n",
       "    </tr>\n",
       "    <tr>\n",
       "      <th>2</th>\n",
       "      <td>102</td>\n",
       "      <td>1012</td>\n",
       "      <td>1</td>\n",
       "      <td>999</td>\n",
       "      <td>0</td>\n",
       "      <td>nonexistent</td>\n",
       "    </tr>\n",
       "    <tr>\n",
       "      <th>3</th>\n",
       "      <td>103</td>\n",
       "      <td>1013</td>\n",
       "      <td>1</td>\n",
       "      <td>999</td>\n",
       "      <td>0</td>\n",
       "      <td>nonexistent</td>\n",
       "    </tr>\n",
       "    <tr>\n",
       "      <th>4</th>\n",
       "      <td>104</td>\n",
       "      <td>1014</td>\n",
       "      <td>1</td>\n",
       "      <td>999</td>\n",
       "      <td>0</td>\n",
       "      <td>nonexistent</td>\n",
       "    </tr>\n",
       "  </tbody>\n",
       "</table>\n",
       "</div>"
      ],
      "text/plain": [
       "   cust_id  campaign_id  campaign  pdays  previous     poutcome\n",
       "0      100         1010         1    999         0  nonexistent\n",
       "1      101         1011         1    999         0  nonexistent\n",
       "2      102         1012         1    999         0  nonexistent\n",
       "3      103         1013         1    999         0  nonexistent\n",
       "4      104         1014         1    999         0  nonexistent"
      ]
     },
     "execution_count": 5,
     "metadata": {},
     "output_type": "execute_result"
    }
   ],
   "source": [
    "df2 = pd.read_feather('data/campaign_data.feather')\n",
    "df2.head(5)"
   ]
  },
  {
   "cell_type": "markdown",
   "metadata": {},
   "source": [
    "#### Campaign information:\n",
    "\n",
    "campaign: Number of contacts performed during this campaign and for this client (numeric, includes last contact)  \n",
    "pdays: Number of days that passed by after the client was last contacted from a previous campaign (numeric)  \n",
    "previous: Number of contacts performed before this campaign and for this client (numeric)  \n",
    "poutcome: Outcome of the previous marketing campaign (categorical: 'nonexistent','success', ...)  \n"
   ]
  },
  {
   "cell_type": "markdown",
   "metadata": {},
   "source": [
    "#### Feature Group Registration & Feature Ingestion:"
   ]
  },
  {
   "cell_type": "code",
   "execution_count": 13,
   "metadata": {},
   "outputs": [],
   "source": [
    "# First feature group registration from a batch source (db)\n",
    "feature_group_campaign = \"campaign_info\"\n",
    "entity_name_cid = \"cust_id\"\n",
    "entity_value_type_cid = DataType.LONG\n",
    "entity_name_cmp = \"campaign_id\"\n",
    "entity_value_type_cmp = DataType.LONG\n",
    "event_ts_cmp = int(datetime.timestamp(datetime(2020,4,26)))  # 04/26/2020 @ 12:00am (UTC)"
   ]
  },
  {
   "cell_type": "code",
   "execution_count": 30,
   "metadata": {},
   "outputs": [
    {
     "name": "stdout",
     "output_type": "stream",
     "text": [
      "CPU times: user 653 µs, sys: 81 µs, total: 734 µs\n",
      "Wall time: 1.57 ms\n"
     ]
    },
    {
     "data": {
      "text/plain": []
     },
     "execution_count": 30,
     "metadata": {},
     "output_type": "execute_result"
    }
   ],
   "source": [
    "%%time\n",
    "\n",
    "# Register features\n",
    "# Note this ingest has 2 entities defined, cust_id and camapign_id\n",
    "\n",
    "client.register_feature_group(feature_group_name=feature_group_campaign,\n",
    "                              author=\"Arun K\",\n",
    "                              online=True,\n",
    "                              offline=True,\n",
    "                              source_code=\"campaign.py\",\n",
    "                              entities={entity_name_cid : entity_value_type_cid, \n",
    "                                        entity_name_cmp : entity_value_type_cmp},\n",
    "                              features={'campaign': DataType.LONG, \n",
    "                                        'pdays': DataType.LONG,\n",
    "                                        'previous': DataType.LONG, \n",
    "                                        'poutcome': DataType.STRING})"
   ]
  },
  {
   "cell_type": "code",
   "execution_count": 32,
   "metadata": {},
   "outputs": [
    {
     "name": "stdout",
     "output_type": "stream",
     "text": [
      "CPU times: user 10.8 s, sys: 1.21 s, total: 12 s\n",
      "Wall time: 16.5 s\n"
     ]
    }
   ],
   "source": [
    "%%time\n",
    "\n",
    "# Ingest features in the dataframe to the feature store based on the feature registeration above.\n",
    "# Note the multiple entities are defined as a list.\n",
    "\n",
    "client.feature_ingest(data=df2,\n",
    "                      entities=[entity_name_cid, entity_name_cmp],\n",
    "                      feature_group_name=feature_group_campaign,\n",
    "                      event_timestamp=event_ts_cmp)"
   ]
  },
  {
   "cell_type": "markdown",
   "metadata": {},
   "source": [
    "Now our features for both Feature Groups are stored in Tern's Feature Store. You can search and discover them in Amundsen."
   ]
  },
  {
   "cell_type": "markdown",
   "metadata": {},
   "source": [
    "## Retrieve Online Features"
   ]
  },
  {
   "cell_type": "markdown",
   "metadata": {},
   "source": [
    "We can now retrieve features online using `get_features_as_dict`. This method for retrieval provides low latency for online inference and integrating predictions into applications/products.  \n",
    "Let's retrieve the features we just ingested above for each feature group:"
   ]
  },
  {
   "cell_type": "markdown",
   "metadata": {},
   "source": [
    "### Get Online Features - Demographics Feature Group:"
   ]
  },
  {
   "cell_type": "code",
   "execution_count": 33,
   "metadata": {},
   "outputs": [
    {
     "name": "stdout",
     "output_type": "stream",
     "text": [
      "['age', 'job', 'marital', 'education']\n"
     ]
    }
   ],
   "source": [
    "# Create a list of feature names we want to retieve online. \n",
    "\n",
    "get_feature_names=[]\n",
    "entity=[entity_name_cid]\n",
    "for column in df1:\n",
    "    if column not in entity:\n",
    "        get_feature_names.append(column)\n",
    "\n",
    "print(get_feature_names)"
   ]
  },
  {
   "cell_type": "code",
   "execution_count": 34,
   "metadata": {},
   "outputs": [
    {
     "name": "stdout",
     "output_type": "stream",
     "text": [
      "List Features Requested:\n",
      "{'demographics.marital': 'divorced', 'demographics.age': 78, 'demographics.job': 'retired', 'demographics.education': 'professional.course'}\n",
      "CPU times: user 1.86 ms, sys: 0 ns, total: 1.86 ms\n",
      "Wall time: 4.23 ms\n"
     ]
    }
   ],
   "source": [
    "%%time\n",
    "\n",
    "#Get online features with a feature_group_name, entity name/value and the feature name list.\n",
    "\n",
    "features = client.get_features_as_dict(feature_group_name=feature_group_demographics,\n",
    "                                       entities={entity_name_cid: 39233},\n",
    "                                       features=get_feature_names)\n",
    "\n",
    "\n",
    "print(\"List Features Requested:\")\n",
    "\n",
    "print(f'{features}')"
   ]
  },
  {
   "cell_type": "markdown",
   "metadata": {},
   "source": [
    "### Get Online Features for Campaign info Feature Group:"
   ]
  },
  {
   "cell_type": "code",
   "execution_count": 35,
   "metadata": {},
   "outputs": [
    {
     "name": "stdout",
     "output_type": "stream",
     "text": [
      "['campaign', 'pdays', 'previous', 'poutcome']\n"
     ]
    }
   ],
   "source": [
    "# Create a list of feature names we want to retieve online. \n",
    "\n",
    "get_feature_names=[]\n",
    "entity=[entity_name_cid,entity_name_cmp]\n",
    "for column in df2:\n",
    "    if column not in entity:\n",
    "        get_feature_names.append(column)\n",
    "print(get_feature_names)"
   ]
  },
  {
   "cell_type": "code",
   "execution_count": 44,
   "metadata": {},
   "outputs": [
    {
     "name": "stdout",
     "output_type": "stream",
     "text": [
      "List Features Requested:\n",
      "features {\n",
      "  key: \"campaign\"\n",
      "  value {\n",
      "    long_val: 1\n",
      "  }\n",
      "}\n",
      "features {\n",
      "  key: \"pdays\"\n",
      "  value {\n",
      "    long_val: 999\n",
      "  }\n",
      "}\n",
      "features {\n",
      "  key: \"poutcome\"\n",
      "  value {\n",
      "    string_val: \"failure\"\n",
      "  }\n",
      "}\n",
      "features {\n",
      "  key: \"previous\"\n",
      "  value {\n",
      "    long_val: 1\n",
      "  }\n",
      "}\n",
      "\n",
      "CPU times: user 1.74 ms, sys: 0 ns, total: 1.74 ms\n",
      "Wall time: 3.98 ms\n"
     ]
    }
   ],
   "source": [
    "%%time\n",
    "\n",
    "# Get online features with a feature_group_name, entity name/value and the feature name list.\n",
    "# Note for this feature group we need 2 entities to access.\n",
    "\n",
    "features = client.get_features(feature_group_name=feature_group_campaign,\n",
    "                               entities={entity_name_cid: 39233, \n",
    "                                         entity_name_cmp: 40143},\n",
    "                               features=get_feature_names)\n",
    "\n",
    "print(\"List Features Requested:\")\n",
    "\n",
    "print(f'{features}')"
   ]
  },
  {
   "cell_type": "markdown",
   "metadata": {},
   "source": [
    "## Get Batch Features"
   ]
  },
  {
   "cell_type": "markdown",
   "metadata": {},
   "source": [
    "For offline modelling you may need to access large amounts of feature data. The batch feature request will return a correct point in time join with your target dataset."
   ]
  },
  {
   "cell_type": "markdown",
   "metadata": {},
   "source": [
    "Now you are ready to build your model using the features ingested in the store earlier.\n",
    "\n",
    "To access feature data follow this steps:\n",
    "\n",
    "1. Create a target dataset which has the following structure:\n",
    "    - entity name and values (cust_id) - In this case customer ID's that are of interest to build the training data\n",
    "    - target_timestamp - Timestamp when the event of interest is observed, and thus providing a temporal cutoff with respect to feature timestamp. It is used to build point in time accurate training data.\n",
    "    - Other columns (optional) - This is optional. You may want to add the target or label name and values if it is not part of the features requested from the store. Therefore, providing you a complete training data for feature and target of interest."
   ]
  },
  {
   "cell_type": "code",
   "execution_count": 14,
   "metadata": {},
   "outputs": [],
   "source": [
    "df_target = pd.read_feather('data/dataset_target.feather') # Read data from stored feather file"
   ]
  },
  {
   "cell_type": "code",
   "execution_count": 15,
   "metadata": {},
   "outputs": [
    {
     "data": {
      "text/html": [
       "<div>\n",
       "<style scoped>\n",
       "    .dataframe tbody tr th:only-of-type {\n",
       "        vertical-align: middle;\n",
       "    }\n",
       "\n",
       "    .dataframe tbody tr th {\n",
       "        vertical-align: top;\n",
       "    }\n",
       "\n",
       "    .dataframe thead th {\n",
       "        text-align: right;\n",
       "    }\n",
       "</style>\n",
       "<table border=\"1\" class=\"dataframe\">\n",
       "  <thead>\n",
       "    <tr style=\"text-align: right;\">\n",
       "      <th></th>\n",
       "      <th>cust_id</th>\n",
       "      <th>campaign_id</th>\n",
       "      <th>default</th>\n",
       "      <th>housing</th>\n",
       "      <th>loan</th>\n",
       "      <th>contact</th>\n",
       "      <th>month</th>\n",
       "      <th>day_of_week</th>\n",
       "      <th>duration</th>\n",
       "      <th>emp.var.rate</th>\n",
       "      <th>cons.price.idx</th>\n",
       "      <th>cons.conf.idx</th>\n",
       "      <th>euribor3m</th>\n",
       "      <th>nr.employed</th>\n",
       "      <th>y</th>\n",
       "      <th>target_timestamp</th>\n",
       "    </tr>\n",
       "  </thead>\n",
       "  <tbody>\n",
       "    <tr>\n",
       "      <th>0</th>\n",
       "      <td>100</td>\n",
       "      <td>1010</td>\n",
       "      <td>no</td>\n",
       "      <td>no</td>\n",
       "      <td>no</td>\n",
       "      <td>telephone</td>\n",
       "      <td>may</td>\n",
       "      <td>mon</td>\n",
       "      <td>261</td>\n",
       "      <td>1.1</td>\n",
       "      <td>93.994</td>\n",
       "      <td>-36.4</td>\n",
       "      <td>4.857</td>\n",
       "      <td>5191.0</td>\n",
       "      <td>no</td>\n",
       "      <td>1588291200</td>\n",
       "    </tr>\n",
       "    <tr>\n",
       "      <th>1</th>\n",
       "      <td>101</td>\n",
       "      <td>1011</td>\n",
       "      <td>unknown</td>\n",
       "      <td>no</td>\n",
       "      <td>no</td>\n",
       "      <td>telephone</td>\n",
       "      <td>may</td>\n",
       "      <td>mon</td>\n",
       "      <td>149</td>\n",
       "      <td>1.1</td>\n",
       "      <td>93.994</td>\n",
       "      <td>-36.4</td>\n",
       "      <td>4.857</td>\n",
       "      <td>5191.0</td>\n",
       "      <td>no</td>\n",
       "      <td>1588291200</td>\n",
       "    </tr>\n",
       "    <tr>\n",
       "      <th>2</th>\n",
       "      <td>102</td>\n",
       "      <td>1012</td>\n",
       "      <td>no</td>\n",
       "      <td>yes</td>\n",
       "      <td>no</td>\n",
       "      <td>telephone</td>\n",
       "      <td>may</td>\n",
       "      <td>mon</td>\n",
       "      <td>226</td>\n",
       "      <td>1.1</td>\n",
       "      <td>93.994</td>\n",
       "      <td>-36.4</td>\n",
       "      <td>4.857</td>\n",
       "      <td>5191.0</td>\n",
       "      <td>no</td>\n",
       "      <td>1588291200</td>\n",
       "    </tr>\n",
       "  </tbody>\n",
       "</table>\n",
       "</div>"
      ],
      "text/plain": [
       "   cust_id  campaign_id  default housing loan    contact month day_of_week  \\\n",
       "0      100         1010       no      no   no  telephone   may         mon   \n",
       "1      101         1011  unknown      no   no  telephone   may         mon   \n",
       "2      102         1012       no     yes   no  telephone   may         mon   \n",
       "\n",
       "   duration  emp.var.rate  cons.price.idx  cons.conf.idx  euribor3m  \\\n",
       "0       261           1.1          93.994          -36.4      4.857   \n",
       "1       149           1.1          93.994          -36.4      4.857   \n",
       "2       226           1.1          93.994          -36.4      4.857   \n",
       "\n",
       "   nr.employed   y  target_timestamp  \n",
       "0       5191.0  no        1588291200  \n",
       "1       5191.0  no        1588291200  \n",
       "2       5191.0  no        1588291200  "
      ]
     },
     "execution_count": 15,
     "metadata": {},
     "output_type": "execute_result"
    }
   ],
   "source": [
    "df_target.head(3)"
   ]
  },
  {
   "cell_type": "code",
   "execution_count": 16,
   "metadata": {},
   "outputs": [
    {
     "data": {
      "text/html": [
       "<div>\n",
       "<style scoped>\n",
       "    .dataframe tbody tr th:only-of-type {\n",
       "        vertical-align: middle;\n",
       "    }\n",
       "\n",
       "    .dataframe tbody tr th {\n",
       "        vertical-align: top;\n",
       "    }\n",
       "\n",
       "    .dataframe thead th {\n",
       "        text-align: right;\n",
       "    }\n",
       "</style>\n",
       "<table border=\"1\" class=\"dataframe\">\n",
       "  <thead>\n",
       "    <tr style=\"text-align: right;\">\n",
       "      <th></th>\n",
       "      <th>cust_id</th>\n",
       "      <th>campaign_id</th>\n",
       "      <th>target_timestamp</th>\n",
       "      <th>y</th>\n",
       "    </tr>\n",
       "  </thead>\n",
       "  <tbody>\n",
       "    <tr>\n",
       "      <th>0</th>\n",
       "      <td>100</td>\n",
       "      <td>1010</td>\n",
       "      <td>1588291200</td>\n",
       "      <td>no</td>\n",
       "    </tr>\n",
       "    <tr>\n",
       "      <th>1</th>\n",
       "      <td>101</td>\n",
       "      <td>1011</td>\n",
       "      <td>1588291200</td>\n",
       "      <td>no</td>\n",
       "    </tr>\n",
       "    <tr>\n",
       "      <th>2</th>\n",
       "      <td>102</td>\n",
       "      <td>1012</td>\n",
       "      <td>1588291200</td>\n",
       "      <td>no</td>\n",
       "    </tr>\n",
       "    <tr>\n",
       "      <th>3</th>\n",
       "      <td>103</td>\n",
       "      <td>1013</td>\n",
       "      <td>1588291200</td>\n",
       "      <td>no</td>\n",
       "    </tr>\n",
       "    <tr>\n",
       "      <th>4</th>\n",
       "      <td>104</td>\n",
       "      <td>1014</td>\n",
       "      <td>1588291200</td>\n",
       "      <td>no</td>\n",
       "    </tr>\n",
       "  </tbody>\n",
       "</table>\n",
       "</div>"
      ],
      "text/plain": [
       "   cust_id  campaign_id  target_timestamp   y\n",
       "0      100         1010        1588291200  no\n",
       "1      101         1011        1588291200  no\n",
       "2      102         1012        1588291200  no\n",
       "3      103         1013        1588291200  no\n",
       "4      104         1014        1588291200  no"
      ]
     },
     "execution_count": 16,
     "metadata": {},
     "output_type": "execute_result"
    }
   ],
   "source": [
    "df_target= df_target[['cust_id', 'campaign_id','target_timestamp','y']]\n",
    "df_target.head(5)"
   ]
  },
  {
   "cell_type": "markdown",
   "metadata": {},
   "source": [
    "**Target variable:** y - Has the client subscribed a term deposit? (binary: 'yes','no')  "
   ]
  },
  {
   "cell_type": "markdown",
   "metadata": {},
   "source": [
    "2. Use the client and following parameters to get the training data:\n",
    "    - dataset created in Step 1\n",
    "    - list of features with their feature group names. E.g. `[feature_group_name1:feature_name1, feature_group_name2:feature_name2]`  \n",
    "  \n",
    "In this step you could use Amendsen to discover features available in the store. More information in the documentation."
   ]
  },
  {
   "cell_type": "code",
   "execution_count": 17,
   "metadata": {},
   "outputs": [],
   "source": [
    "fsspec.filesystem('s3').invalidate_cache()\n",
    "\n",
    "all_features=['campaign_info:campaign', \n",
    "              'campaign_info:pdays', \n",
    "              'campaign_info:previous', \n",
    "              'campaign_info:poutcome', \n",
    "              'demographics:age', \n",
    "              'demographics:job', \n",
    "              'demographics:marital', \n",
    "              'demographics:education']"
   ]
  },
  {
   "cell_type": "code",
   "execution_count": 18,
   "metadata": {},
   "outputs": [
    {
     "name": "stdout",
     "output_type": "stream",
     "text": [
      "CPU times: user 1min 26s, sys: 697 ms, total: 1min 26s\n",
      "Wall time: 1min 31s\n"
     ]
    }
   ],
   "source": [
    "%%time\n",
    "\n",
    "# Target dataset and feature list as input will return a correct point in time training data as a dataframe.\n",
    "\n",
    "training_data = client.get_batch_features(entity_df=df_target, features=all_features)"
   ]
  },
  {
   "cell_type": "code",
   "execution_count": 20,
   "metadata": {},
   "outputs": [
    {
     "data": {
      "text/html": [
       "<div>\n",
       "<style scoped>\n",
       "    .dataframe tbody tr th:only-of-type {\n",
       "        vertical-align: middle;\n",
       "    }\n",
       "\n",
       "    .dataframe tbody tr th {\n",
       "        vertical-align: top;\n",
       "    }\n",
       "\n",
       "    .dataframe thead th {\n",
       "        text-align: right;\n",
       "    }\n",
       "</style>\n",
       "<table border=\"1\" class=\"dataframe\">\n",
       "  <thead>\n",
       "    <tr style=\"text-align: right;\">\n",
       "      <th></th>\n",
       "      <th>cust_id</th>\n",
       "      <th>campaign_id</th>\n",
       "      <th>target_timestamp</th>\n",
       "      <th>y</th>\n",
       "      <th>campaign_info.campaign</th>\n",
       "      <th>campaign_info.pdays</th>\n",
       "      <th>campaign_info.previous</th>\n",
       "      <th>campaign_info.poutcome</th>\n",
       "      <th>demographics.age</th>\n",
       "      <th>demographics.job</th>\n",
       "      <th>demographics.marital</th>\n",
       "      <th>demographics.education</th>\n",
       "    </tr>\n",
       "  </thead>\n",
       "  <tbody>\n",
       "    <tr>\n",
       "      <th>0</th>\n",
       "      <td>10356</td>\n",
       "      <td>11266</td>\n",
       "      <td>1588291200</td>\n",
       "      <td>no</td>\n",
       "      <td>3</td>\n",
       "      <td>999</td>\n",
       "      <td>0</td>\n",
       "      <td>nonexistent</td>\n",
       "      <td>29</td>\n",
       "      <td>admin.</td>\n",
       "      <td>divorced</td>\n",
       "      <td>university.degree</td>\n",
       "    </tr>\n",
       "    <tr>\n",
       "      <th>2</th>\n",
       "      <td>9976</td>\n",
       "      <td>10886</td>\n",
       "      <td>1588291200</td>\n",
       "      <td>no</td>\n",
       "      <td>1</td>\n",
       "      <td>999</td>\n",
       "      <td>0</td>\n",
       "      <td>nonexistent</td>\n",
       "      <td>52</td>\n",
       "      <td>technician</td>\n",
       "      <td>married</td>\n",
       "      <td>high.school</td>\n",
       "    </tr>\n",
       "    <tr>\n",
       "      <th>4</th>\n",
       "      <td>27209</td>\n",
       "      <td>28119</td>\n",
       "      <td>1588291200</td>\n",
       "      <td>no</td>\n",
       "      <td>1</td>\n",
       "      <td>999</td>\n",
       "      <td>1</td>\n",
       "      <td>failure</td>\n",
       "      <td>50</td>\n",
       "      <td>management</td>\n",
       "      <td>divorced</td>\n",
       "      <td>university.degree</td>\n",
       "    </tr>\n",
       "    <tr>\n",
       "      <th>6</th>\n",
       "      <td>12723</td>\n",
       "      <td>13633</td>\n",
       "      <td>1588291200</td>\n",
       "      <td>no</td>\n",
       "      <td>1</td>\n",
       "      <td>999</td>\n",
       "      <td>0</td>\n",
       "      <td>nonexistent</td>\n",
       "      <td>28</td>\n",
       "      <td>technician</td>\n",
       "      <td>divorced</td>\n",
       "      <td>university.degree</td>\n",
       "    </tr>\n",
       "    <tr>\n",
       "      <th>8</th>\n",
       "      <td>24923</td>\n",
       "      <td>25833</td>\n",
       "      <td>1588291200</td>\n",
       "      <td>no</td>\n",
       "      <td>1</td>\n",
       "      <td>999</td>\n",
       "      <td>0</td>\n",
       "      <td>nonexistent</td>\n",
       "      <td>33</td>\n",
       "      <td>admin.</td>\n",
       "      <td>married</td>\n",
       "      <td>university.degree</td>\n",
       "    </tr>\n",
       "  </tbody>\n",
       "</table>\n",
       "</div>"
      ],
      "text/plain": [
       "   cust_id  campaign_id  target_timestamp   y  campaign_info.campaign  \\\n",
       "0    10356        11266        1588291200  no                       3   \n",
       "2     9976        10886        1588291200  no                       1   \n",
       "4    27209        28119        1588291200  no                       1   \n",
       "6    12723        13633        1588291200  no                       1   \n",
       "8    24923        25833        1588291200  no                       1   \n",
       "\n",
       "   campaign_info.pdays  campaign_info.previous campaign_info.poutcome  \\\n",
       "0                  999                       0            nonexistent   \n",
       "2                  999                       0            nonexistent   \n",
       "4                  999                       1                failure   \n",
       "6                  999                       0            nonexistent   \n",
       "8                  999                       0            nonexistent   \n",
       "\n",
       "   demographics.age demographics.job demographics.marital  \\\n",
       "0                29           admin.             divorced   \n",
       "2                52       technician              married   \n",
       "4                50       management             divorced   \n",
       "6                28       technician             divorced   \n",
       "8                33           admin.              married   \n",
       "\n",
       "  demographics.education  \n",
       "0      university.degree  \n",
       "2            high.school  \n",
       "4      university.degree  \n",
       "6      university.degree  \n",
       "8      university.degree  "
      ]
     },
     "execution_count": 20,
     "metadata": {},
     "output_type": "execute_result"
    }
   ],
   "source": [
    "training_data.head(5)"
   ]
  },
  {
   "cell_type": "code",
   "execution_count": 21,
   "metadata": {},
   "outputs": [
    {
     "data": {
      "text/html": [
       "<div>\n",
       "<style scoped>\n",
       "    .dataframe tbody tr th:only-of-type {\n",
       "        vertical-align: middle;\n",
       "    }\n",
       "\n",
       "    .dataframe tbody tr th {\n",
       "        vertical-align: top;\n",
       "    }\n",
       "\n",
       "    .dataframe thead th {\n",
       "        text-align: right;\n",
       "    }\n",
       "</style>\n",
       "<table border=\"1\" class=\"dataframe\">\n",
       "  <thead>\n",
       "    <tr style=\"text-align: right;\">\n",
       "      <th></th>\n",
       "      <th>cust_id</th>\n",
       "      <th>campaign_id</th>\n",
       "      <th>target_timestamp</th>\n",
       "      <th>y</th>\n",
       "      <th>campaign_info.campaign</th>\n",
       "      <th>campaign_info.pdays</th>\n",
       "      <th>campaign_info.previous</th>\n",
       "      <th>campaign_info.poutcome</th>\n",
       "      <th>demographics.age</th>\n",
       "      <th>demographics.job</th>\n",
       "      <th>demographics.marital</th>\n",
       "      <th>demographics.education</th>\n",
       "    </tr>\n",
       "  </thead>\n",
       "  <tbody>\n",
       "    <tr>\n",
       "      <th>82366</th>\n",
       "      <td>15728</td>\n",
       "      <td>16638</td>\n",
       "      <td>1588291200</td>\n",
       "      <td>no</td>\n",
       "      <td>3</td>\n",
       "      <td>999</td>\n",
       "      <td>0</td>\n",
       "      <td>nonexistent</td>\n",
       "      <td>26</td>\n",
       "      <td>admin.</td>\n",
       "      <td>divorced</td>\n",
       "      <td>basic.9y</td>\n",
       "    </tr>\n",
       "    <tr>\n",
       "      <th>82368</th>\n",
       "      <td>6661</td>\n",
       "      <td>7571</td>\n",
       "      <td>1588291200</td>\n",
       "      <td>no</td>\n",
       "      <td>1</td>\n",
       "      <td>999</td>\n",
       "      <td>0</td>\n",
       "      <td>nonexistent</td>\n",
       "      <td>28</td>\n",
       "      <td>self-employed</td>\n",
       "      <td>married</td>\n",
       "      <td>professional.course</td>\n",
       "    </tr>\n",
       "    <tr>\n",
       "      <th>82370</th>\n",
       "      <td>3166</td>\n",
       "      <td>4076</td>\n",
       "      <td>1588291200</td>\n",
       "      <td>no</td>\n",
       "      <td>2</td>\n",
       "      <td>999</td>\n",
       "      <td>0</td>\n",
       "      <td>nonexistent</td>\n",
       "      <td>29</td>\n",
       "      <td>admin.</td>\n",
       "      <td>single</td>\n",
       "      <td>university.degree</td>\n",
       "    </tr>\n",
       "    <tr>\n",
       "      <th>82372</th>\n",
       "      <td>34910</td>\n",
       "      <td>35820</td>\n",
       "      <td>1588291200</td>\n",
       "      <td>no</td>\n",
       "      <td>7</td>\n",
       "      <td>999</td>\n",
       "      <td>0</td>\n",
       "      <td>nonexistent</td>\n",
       "      <td>34</td>\n",
       "      <td>admin.</td>\n",
       "      <td>single</td>\n",
       "      <td>university.degree</td>\n",
       "    </tr>\n",
       "    <tr>\n",
       "      <th>82374</th>\n",
       "      <td>22221</td>\n",
       "      <td>23131</td>\n",
       "      <td>1588291200</td>\n",
       "      <td>no</td>\n",
       "      <td>3</td>\n",
       "      <td>999</td>\n",
       "      <td>0</td>\n",
       "      <td>nonexistent</td>\n",
       "      <td>51</td>\n",
       "      <td>technician</td>\n",
       "      <td>married</td>\n",
       "      <td>professional.course</td>\n",
       "    </tr>\n",
       "  </tbody>\n",
       "</table>\n",
       "</div>"
      ],
      "text/plain": [
       "       cust_id  campaign_id  target_timestamp   y  campaign_info.campaign  \\\n",
       "82366    15728        16638        1588291200  no                       3   \n",
       "82368     6661         7571        1588291200  no                       1   \n",
       "82370     3166         4076        1588291200  no                       2   \n",
       "82372    34910        35820        1588291200  no                       7   \n",
       "82374    22221        23131        1588291200  no                       3   \n",
       "\n",
       "       campaign_info.pdays  campaign_info.previous campaign_info.poutcome  \\\n",
       "82366                  999                       0            nonexistent   \n",
       "82368                  999                       0            nonexistent   \n",
       "82370                  999                       0            nonexistent   \n",
       "82372                  999                       0            nonexistent   \n",
       "82374                  999                       0            nonexistent   \n",
       "\n",
       "       demographics.age demographics.job demographics.marital  \\\n",
       "82366                26           admin.             divorced   \n",
       "82368                28    self-employed              married   \n",
       "82370                29           admin.               single   \n",
       "82372                34           admin.               single   \n",
       "82374                51       technician              married   \n",
       "\n",
       "      demographics.education  \n",
       "82366               basic.9y  \n",
       "82368    professional.course  \n",
       "82370      university.degree  \n",
       "82372      university.degree  \n",
       "82374    professional.course  "
      ]
     },
     "execution_count": 21,
     "metadata": {},
     "output_type": "execute_result"
    }
   ],
   "source": [
    "training_data.tail(5)"
   ]
  },
  {
   "cell_type": "code",
   "execution_count": 22,
   "metadata": {},
   "outputs": [
    {
     "data": {
      "text/plain": [
       "cust_id                   41188\n",
       "campaign_id               41188\n",
       "target_timestamp          41188\n",
       "y                         41188\n",
       "campaign_info.campaign    41188\n",
       "campaign_info.pdays       41188\n",
       "campaign_info.previous    41188\n",
       "campaign_info.poutcome    41188\n",
       "demographics.age          41188\n",
       "demographics.job          41188\n",
       "demographics.marital      41188\n",
       "demographics.education    41188\n",
       "dtype: int64"
      ]
     },
     "execution_count": 22,
     "metadata": {},
     "output_type": "execute_result"
    }
   ],
   "source": [
    "training_data.count()"
   ]
  },
  {
   "cell_type": "code",
   "execution_count": 23,
   "metadata": {},
   "outputs": [
    {
     "data": {
      "text/html": [
       "<div>\n",
       "<style scoped>\n",
       "    .dataframe tbody tr th:only-of-type {\n",
       "        vertical-align: middle;\n",
       "    }\n",
       "\n",
       "    .dataframe tbody tr th {\n",
       "        vertical-align: top;\n",
       "    }\n",
       "\n",
       "    .dataframe thead th {\n",
       "        text-align: right;\n",
       "    }\n",
       "</style>\n",
       "<table border=\"1\" class=\"dataframe\">\n",
       "  <thead>\n",
       "    <tr style=\"text-align: right;\">\n",
       "      <th></th>\n",
       "      <th>cust_id</th>\n",
       "      <th>campaign_id</th>\n",
       "      <th>target_timestamp</th>\n",
       "      <th>campaign_info.campaign</th>\n",
       "      <th>campaign_info.pdays</th>\n",
       "      <th>campaign_info.previous</th>\n",
       "      <th>demographics.age</th>\n",
       "    </tr>\n",
       "  </thead>\n",
       "  <tbody>\n",
       "    <tr>\n",
       "      <th>count</th>\n",
       "      <td>41188.00000</td>\n",
       "      <td>41188.00000</td>\n",
       "      <td>4.118800e+04</td>\n",
       "      <td>41188.000000</td>\n",
       "      <td>41188.000000</td>\n",
       "      <td>41188.000000</td>\n",
       "      <td>41188.00000</td>\n",
       "    </tr>\n",
       "    <tr>\n",
       "      <th>mean</th>\n",
       "      <td>20693.50000</td>\n",
       "      <td>21603.50000</td>\n",
       "      <td>1.588291e+09</td>\n",
       "      <td>2.567593</td>\n",
       "      <td>962.475454</td>\n",
       "      <td>0.172963</td>\n",
       "      <td>40.02406</td>\n",
       "    </tr>\n",
       "    <tr>\n",
       "      <th>std</th>\n",
       "      <td>11890.09578</td>\n",
       "      <td>11890.09578</td>\n",
       "      <td>0.000000e+00</td>\n",
       "      <td>2.770014</td>\n",
       "      <td>186.910907</td>\n",
       "      <td>0.494901</td>\n",
       "      <td>10.42125</td>\n",
       "    </tr>\n",
       "    <tr>\n",
       "      <th>min</th>\n",
       "      <td>100.00000</td>\n",
       "      <td>1010.00000</td>\n",
       "      <td>1.588291e+09</td>\n",
       "      <td>1.000000</td>\n",
       "      <td>0.000000</td>\n",
       "      <td>0.000000</td>\n",
       "      <td>17.00000</td>\n",
       "    </tr>\n",
       "    <tr>\n",
       "      <th>25%</th>\n",
       "      <td>10396.75000</td>\n",
       "      <td>11306.75000</td>\n",
       "      <td>1.588291e+09</td>\n",
       "      <td>1.000000</td>\n",
       "      <td>999.000000</td>\n",
       "      <td>0.000000</td>\n",
       "      <td>32.00000</td>\n",
       "    </tr>\n",
       "    <tr>\n",
       "      <th>50%</th>\n",
       "      <td>20693.50000</td>\n",
       "      <td>21603.50000</td>\n",
       "      <td>1.588291e+09</td>\n",
       "      <td>2.000000</td>\n",
       "      <td>999.000000</td>\n",
       "      <td>0.000000</td>\n",
       "      <td>38.00000</td>\n",
       "    </tr>\n",
       "    <tr>\n",
       "      <th>75%</th>\n",
       "      <td>30990.25000</td>\n",
       "      <td>31900.25000</td>\n",
       "      <td>1.588291e+09</td>\n",
       "      <td>3.000000</td>\n",
       "      <td>999.000000</td>\n",
       "      <td>0.000000</td>\n",
       "      <td>47.00000</td>\n",
       "    </tr>\n",
       "    <tr>\n",
       "      <th>max</th>\n",
       "      <td>41287.00000</td>\n",
       "      <td>42197.00000</td>\n",
       "      <td>1.588291e+09</td>\n",
       "      <td>56.000000</td>\n",
       "      <td>999.000000</td>\n",
       "      <td>7.000000</td>\n",
       "      <td>98.00000</td>\n",
       "    </tr>\n",
       "  </tbody>\n",
       "</table>\n",
       "</div>"
      ],
      "text/plain": [
       "           cust_id  campaign_id  target_timestamp  campaign_info.campaign  \\\n",
       "count  41188.00000  41188.00000      4.118800e+04            41188.000000   \n",
       "mean   20693.50000  21603.50000      1.588291e+09                2.567593   \n",
       "std    11890.09578  11890.09578      0.000000e+00                2.770014   \n",
       "min      100.00000   1010.00000      1.588291e+09                1.000000   \n",
       "25%    10396.75000  11306.75000      1.588291e+09                1.000000   \n",
       "50%    20693.50000  21603.50000      1.588291e+09                2.000000   \n",
       "75%    30990.25000  31900.25000      1.588291e+09                3.000000   \n",
       "max    41287.00000  42197.00000      1.588291e+09               56.000000   \n",
       "\n",
       "       campaign_info.pdays  campaign_info.previous  demographics.age  \n",
       "count         41188.000000            41188.000000       41188.00000  \n",
       "mean            962.475454                0.172963          40.02406  \n",
       "std             186.910907                0.494901          10.42125  \n",
       "min               0.000000                0.000000          17.00000  \n",
       "25%             999.000000                0.000000          32.00000  \n",
       "50%             999.000000                0.000000          38.00000  \n",
       "75%             999.000000                0.000000          47.00000  \n",
       "max             999.000000                7.000000          98.00000  "
      ]
     },
     "execution_count": 23,
     "metadata": {},
     "output_type": "execute_result"
    }
   ],
   "source": [
    "training_data.describe()"
   ]
  },
  {
   "cell_type": "markdown",
   "metadata": {},
   "source": [
    "Now we can take more steps to build a ML model to predict which customers are likely to make a deposit. See the second notebook that walks through model building through online predictions."
   ]
  }
 ],
 "metadata": {
  "kernelspec": {
   "display_name": "Python 3",
   "language": "python",
   "name": "python3"
  },
  "language_info": {
   "codemirror_mode": {
    "name": "ipython",
    "version": 3
   },
   "file_extension": ".py",
   "mimetype": "text/x-python",
   "name": "python",
   "nbconvert_exporter": "python",
   "pygments_lexer": "ipython3",
   "version": "3.7.4"
  }
 },
 "nbformat": 4,
 "nbformat_minor": 4
}
