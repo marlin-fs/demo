{
 "cells": [
  {
   "cell_type": "code",
   "execution_count": 1,
   "metadata": {},
   "outputs": [],
   "source": [
    "from datetime import datetime\n",
    "import pandas as pd\n",
    "import feather\n",
    "import os\n",
    "import marlin\n",
    "from marlin.marlin_service_pb2 import DataType, TransformJobType, TransformOutputStores\n",
    "pd.set_option('display.max_columns', 500)     # Make sure we can see all of the columns\n",
    "pd.set_option('display.max_rows', 20)         # Keep the output on one page"
   ]
  },
  {
   "cell_type": "code",
   "execution_count": 2,
   "metadata": {},
   "outputs": [
    {
     "name": "stdout",
     "output_type": "stream",
     "text": [
      "Requirement already satisfied: marlinfs==0.0.1.16rc1 in /Users/maulikshah/.pyenv/versions/3.7.2/lib/python3.7/site-packages (0.0.1.16rc1)\n",
      "Requirement already satisfied: grpcio==1.33.2 in /Users/maulikshah/.pyenv/versions/3.7.2/lib/python3.7/site-packages (from marlinfs==0.0.1.16rc1) (1.33.2)\n",
      "Requirement already satisfied: s3fs==0.5.1 in /Users/maulikshah/.pyenv/versions/3.7.2/lib/python3.7/site-packages (from marlinfs==0.0.1.16rc1) (0.5.1)\n",
      "Requirement already satisfied: pyarrow==1.0.1 in /Users/maulikshah/.pyenv/versions/3.7.2/lib/python3.7/site-packages (from marlinfs==0.0.1.16rc1) (1.0.1)\n",
      "Requirement already satisfied: googleapis-common-protos==1.52.0 in /Users/maulikshah/.pyenv/versions/3.7.2/lib/python3.7/site-packages (from marlinfs==0.0.1.16rc1) (1.52.0)\n",
      "Requirement already satisfied: pandas==1.1.3 in /Users/maulikshah/.pyenv/versions/3.7.2/lib/python3.7/site-packages (from marlinfs==0.0.1.16rc1) (1.1.3)\n",
      "Requirement already satisfied: fsspec==0.8.4 in /Users/maulikshah/.pyenv/versions/3.7.2/lib/python3.7/site-packages (from marlinfs==0.0.1.16rc1) (0.8.4)\n",
      "Requirement already satisfied: pyathena==2.0.0 in /Users/maulikshah/.pyenv/versions/3.7.2/lib/python3.7/site-packages (from marlinfs==0.0.1.16rc1) (2.0.0)\n",
      "Requirement already satisfied: six>=1.5.2 in /Users/maulikshah/.pyenv/versions/3.7.2/lib/python3.7/site-packages (from grpcio==1.33.2->marlinfs==0.0.1.16rc1) (1.15.0)\n",
      "Requirement already satisfied: aiobotocore>=1.0.1 in /Users/maulikshah/.pyenv/versions/3.7.2/lib/python3.7/site-packages (from s3fs==0.5.1->marlinfs==0.0.1.16rc1) (1.1.2)\n",
      "Requirement already satisfied: numpy>=1.14 in /Users/maulikshah/.pyenv/versions/3.7.2/lib/python3.7/site-packages (from pyarrow==1.0.1->marlinfs==0.0.1.16rc1) (1.19.2)\n",
      "Requirement already satisfied: protobuf>=3.6.0 in /Users/maulikshah/.pyenv/versions/3.7.2/lib/python3.7/site-packages (from googleapis-common-protos==1.52.0->marlinfs==0.0.1.16rc1) (3.13.0)\n",
      "Requirement already satisfied: pytz>=2017.2 in /Users/maulikshah/.pyenv/versions/3.7.2/lib/python3.7/site-packages (from pandas==1.1.3->marlinfs==0.0.1.16rc1) (2020.1)\n",
      "Requirement already satisfied: python-dateutil>=2.7.3 in /Users/maulikshah/.pyenv/versions/3.7.2/lib/python3.7/site-packages (from pandas==1.1.3->marlinfs==0.0.1.16rc1) (2.8.1)\n",
      "Requirement already satisfied: botocore>=1.5.52 in /Users/maulikshah/.pyenv/versions/3.7.2/lib/python3.7/site-packages (from pyathena==2.0.0->marlinfs==0.0.1.16rc1) (1.17.44)\n",
      "Requirement already satisfied: tenacity>=4.1.0 in /Users/maulikshah/.pyenv/versions/3.7.2/lib/python3.7/site-packages (from pyathena==2.0.0->marlinfs==0.0.1.16rc1) (6.2.0)\n",
      "Requirement already satisfied: boto3>=1.4.4 in /Users/maulikshah/.pyenv/versions/3.7.2/lib/python3.7/site-packages (from pyathena==2.0.0->marlinfs==0.0.1.16rc1) (1.16.25)\n",
      "Requirement already satisfied: wrapt>=1.10.10 in /Users/maulikshah/.pyenv/versions/3.7.2/lib/python3.7/site-packages (from aiobotocore>=1.0.1->s3fs==0.5.1->marlinfs==0.0.1.16rc1) (1.12.1)\n",
      "Requirement already satisfied: aioitertools>=0.5.1 in /Users/maulikshah/.pyenv/versions/3.7.2/lib/python3.7/site-packages (from aiobotocore>=1.0.1->s3fs==0.5.1->marlinfs==0.0.1.16rc1) (0.7.0)\n",
      "Requirement already satisfied: aiohttp>=3.3.1 in /Users/maulikshah/.pyenv/versions/3.7.2/lib/python3.7/site-packages (from aiobotocore>=1.0.1->s3fs==0.5.1->marlinfs==0.0.1.16rc1) (3.6.2)\n",
      "Requirement already satisfied: setuptools in /Users/maulikshah/.pyenv/versions/3.7.2/lib/python3.7/site-packages (from protobuf>=3.6.0->googleapis-common-protos==1.52.0->marlinfs==0.0.1.16rc1) (50.3.2)\n",
      "Requirement already satisfied: urllib3<1.26,>=1.20; python_version != \"3.4\" in /Users/maulikshah/.pyenv/versions/3.7.2/lib/python3.7/site-packages (from botocore>=1.5.52->pyathena==2.0.0->marlinfs==0.0.1.16rc1) (1.25.10)\n",
      "Requirement already satisfied: docutils<0.16,>=0.10 in /Users/maulikshah/.pyenv/versions/3.7.2/lib/python3.7/site-packages (from botocore>=1.5.52->pyathena==2.0.0->marlinfs==0.0.1.16rc1) (0.15.2)\n",
      "Requirement already satisfied: jmespath<1.0.0,>=0.7.1 in /Users/maulikshah/.pyenv/versions/3.7.2/lib/python3.7/site-packages (from botocore>=1.5.52->pyathena==2.0.0->marlinfs==0.0.1.16rc1) (0.10.0)\n",
      "Requirement already satisfied: s3transfer<0.4.0,>=0.3.0 in /Users/maulikshah/.pyenv/versions/3.7.2/lib/python3.7/site-packages (from boto3>=1.4.4->pyathena==2.0.0->marlinfs==0.0.1.16rc1) (0.3.3)\n",
      "Requirement already satisfied: typing_extensions>=3.7 in /Users/maulikshah/.pyenv/versions/3.7.2/lib/python3.7/site-packages (from aioitertools>=0.5.1->aiobotocore>=1.0.1->s3fs==0.5.1->marlinfs==0.0.1.16rc1) (3.7.4.3)\n",
      "Requirement already satisfied: yarl<2.0,>=1.0 in /Users/maulikshah/.pyenv/versions/3.7.2/lib/python3.7/site-packages (from aiohttp>=3.3.1->aiobotocore>=1.0.1->s3fs==0.5.1->marlinfs==0.0.1.16rc1) (1.6.0)\n",
      "Requirement already satisfied: chardet<4.0,>=2.0 in /Users/maulikshah/.pyenv/versions/3.7.2/lib/python3.7/site-packages (from aiohttp>=3.3.1->aiobotocore>=1.0.1->s3fs==0.5.1->marlinfs==0.0.1.16rc1) (3.0.4)\n",
      "Requirement already satisfied: attrs>=17.3.0 in /Users/maulikshah/.pyenv/versions/3.7.2/lib/python3.7/site-packages (from aiohttp>=3.3.1->aiobotocore>=1.0.1->s3fs==0.5.1->marlinfs==0.0.1.16rc1) (20.2.0)\n",
      "Requirement already satisfied: multidict<5.0,>=4.5 in /Users/maulikshah/.pyenv/versions/3.7.2/lib/python3.7/site-packages (from aiohttp>=3.3.1->aiobotocore>=1.0.1->s3fs==0.5.1->marlinfs==0.0.1.16rc1) (4.7.6)\n",
      "Requirement already satisfied: async-timeout<4.0,>=3.0 in /Users/maulikshah/.pyenv/versions/3.7.2/lib/python3.7/site-packages (from aiohttp>=3.3.1->aiobotocore>=1.0.1->s3fs==0.5.1->marlinfs==0.0.1.16rc1) (3.0.1)\n",
      "Requirement already satisfied: idna>=2.0 in /Users/maulikshah/.pyenv/versions/3.7.2/lib/python3.7/site-packages (from yarl<2.0,>=1.0->aiohttp>=3.3.1->aiobotocore>=1.0.1->s3fs==0.5.1->marlinfs==0.0.1.16rc1) (2.10)\n",
      "Note: you may need to restart the kernel to use updated packages.\n"
     ]
    }
   ],
   "source": [
    "pip install marlinfs==0.0.1.16rc1"
   ]
  },
  {
   "cell_type": "code",
   "execution_count": 3,
   "metadata": {},
   "outputs": [
    {
     "data": {
      "text/html": [
       "<div>\n",
       "<style scoped>\n",
       "    .dataframe tbody tr th:only-of-type {\n",
       "        vertical-align: middle;\n",
       "    }\n",
       "\n",
       "    .dataframe tbody tr th {\n",
       "        vertical-align: top;\n",
       "    }\n",
       "\n",
       "    .dataframe thead th {\n",
       "        text-align: right;\n",
       "    }\n",
       "</style>\n",
       "<table border=\"1\" class=\"dataframe\">\n",
       "  <thead>\n",
       "    <tr style=\"text-align: right;\">\n",
       "      <th></th>\n",
       "      <th>cust_id</th>\n",
       "      <th>age</th>\n",
       "      <th>job</th>\n",
       "      <th>marital</th>\n",
       "      <th>education</th>\n",
       "    </tr>\n",
       "  </thead>\n",
       "  <tbody>\n",
       "    <tr>\n",
       "      <th>0</th>\n",
       "      <td>100</td>\n",
       "      <td>56</td>\n",
       "      <td>housemaid</td>\n",
       "      <td>married</td>\n",
       "      <td>basic.4y</td>\n",
       "    </tr>\n",
       "    <tr>\n",
       "      <th>1</th>\n",
       "      <td>101</td>\n",
       "      <td>57</td>\n",
       "      <td>services</td>\n",
       "      <td>married</td>\n",
       "      <td>high.school</td>\n",
       "    </tr>\n",
       "    <tr>\n",
       "      <th>2</th>\n",
       "      <td>102</td>\n",
       "      <td>37</td>\n",
       "      <td>services</td>\n",
       "      <td>married</td>\n",
       "      <td>high.school</td>\n",
       "    </tr>\n",
       "    <tr>\n",
       "      <th>3</th>\n",
       "      <td>103</td>\n",
       "      <td>40</td>\n",
       "      <td>admin.</td>\n",
       "      <td>married</td>\n",
       "      <td>basic.6y</td>\n",
       "    </tr>\n",
       "    <tr>\n",
       "      <th>4</th>\n",
       "      <td>104</td>\n",
       "      <td>56</td>\n",
       "      <td>services</td>\n",
       "      <td>married</td>\n",
       "      <td>high.school</td>\n",
       "    </tr>\n",
       "  </tbody>\n",
       "</table>\n",
       "</div>"
      ],
      "text/plain": [
       "   cust_id  age        job  marital    education\n",
       "0      100   56  housemaid  married     basic.4y\n",
       "1      101   57   services  married  high.school\n",
       "2      102   37   services  married  high.school\n",
       "3      103   40     admin.  married     basic.6y\n",
       "4      104   56   services  married  high.school"
      ]
     },
     "execution_count": 3,
     "metadata": {},
     "output_type": "execute_result"
    }
   ],
   "source": [
    "df1 = pd.read_feather('data/demo_data.feather')\n",
    "df1.head(5)"
   ]
  },
  {
   "cell_type": "code",
   "execution_count": 4,
   "metadata": {},
   "outputs": [],
   "source": [
    "event_timestamp = int(datetime.timestamp(datetime(2020,4,30))) # 04/30/2020 @ 12:00am (UTC)\n",
    "df1['event_timestamp']=event_timestamp"
   ]
  },
  {
   "cell_type": "code",
   "execution_count": 5,
   "metadata": {},
   "outputs": [
    {
     "data": {
      "text/html": [
       "<div>\n",
       "<style scoped>\n",
       "    .dataframe tbody tr th:only-of-type {\n",
       "        vertical-align: middle;\n",
       "    }\n",
       "\n",
       "    .dataframe tbody tr th {\n",
       "        vertical-align: top;\n",
       "    }\n",
       "\n",
       "    .dataframe thead th {\n",
       "        text-align: right;\n",
       "    }\n",
       "</style>\n",
       "<table border=\"1\" class=\"dataframe\">\n",
       "  <thead>\n",
       "    <tr style=\"text-align: right;\">\n",
       "      <th></th>\n",
       "      <th>cust_id</th>\n",
       "      <th>age</th>\n",
       "      <th>job</th>\n",
       "      <th>marital</th>\n",
       "      <th>education</th>\n",
       "      <th>event_timestamp</th>\n",
       "    </tr>\n",
       "  </thead>\n",
       "  <tbody>\n",
       "    <tr>\n",
       "      <th>0</th>\n",
       "      <td>100</td>\n",
       "      <td>56</td>\n",
       "      <td>housemaid</td>\n",
       "      <td>married</td>\n",
       "      <td>basic.4y</td>\n",
       "      <td>1588230000</td>\n",
       "    </tr>\n",
       "  </tbody>\n",
       "</table>\n",
       "</div>"
      ],
      "text/plain": [
       "   cust_id  age        job  marital education  event_timestamp\n",
       "0      100   56  housemaid  married  basic.4y       1588230000"
      ]
     },
     "execution_count": 5,
     "metadata": {},
     "output_type": "execute_result"
    }
   ],
   "source": [
    "df1.head(1)"
   ]
  },
  {
   "cell_type": "code",
   "execution_count": 6,
   "metadata": {},
   "outputs": [],
   "source": [
    "name='transform_1'\n",
    "version='1'\n",
    "entities={'cust_id':DataType.LONG}\n",
    "features={'age': DataType.LONG, \n",
    "          'job': DataType.STRING,\n",
    "          'marital': DataType.STRING, \n",
    "          'education': DataType.STRING}\n",
    "output_stores=[TransformOutputStores.BATCH_STORE, TransformOutputStores.ONLINE_STORE]"
   ]
  },
  {
   "cell_type": "code",
   "execution_count": 7,
   "metadata": {},
   "outputs": [],
   "source": [
    "client = marlin.client().batch_ingestion_client(name,version,entities,features,output_stores)"
   ]
  },
  {
   "cell_type": "code",
   "execution_count": 10,
   "metadata": {},
   "outputs": [],
   "source": [
    "@client.transform_function\n",
    "def process():\n",
    "    return df1"
   ]
  },
  {
   "cell_type": "code",
   "execution_count": 11,
   "metadata": {},
   "outputs": [
    {
     "ename": "_MultiThreadedRendezvous",
     "evalue": "<_MultiThreadedRendezvous of RPC that terminated with:\n\tstatus = StatusCode.UNAVAILABLE\n\tdetails = \"Socket closed\"\n\tdebug_error_string = \"{\"created\":\"@1606762029.102559000\",\"description\":\"Error received from peer ipv4:34.213.53.17:443\",\"file\":\"src/core/lib/surface/call.cc\",\"file_line\":1062,\"grpc_message\":\"Socket closed\",\"grpc_status\":14}\"\n>",
     "output_type": "error",
     "traceback": [
      "\u001b[0;31m---------------------------------------------------------------------------\u001b[0m",
      "\u001b[0;31m_MultiThreadedRendezvous\u001b[0m                  Traceback (most recent call last)",
      "\u001b[0;32m<ipython-input-11-34a28a13cb9b>\u001b[0m in \u001b[0;36m<module>\u001b[0;34m\u001b[0m\n\u001b[0;32m----> 1\u001b[0;31m \u001b[0mprocess\u001b[0m\u001b[0;34m(\u001b[0m\u001b[0;34m)\u001b[0m\u001b[0;34m\u001b[0m\u001b[0;34m\u001b[0m\u001b[0m\n\u001b[0m",
      "\u001b[0;32m~/.pyenv/versions/3.7.2/lib/python3.7/site-packages/marlin/ingestion/ingest_client.py\u001b[0m in \u001b[0;36mdecorator\u001b[0;34m(*args, **kwargs)\u001b[0m\n\u001b[1;32m     40\u001b[0m         \u001b[0;32mdef\u001b[0m \u001b[0mdecorator\u001b[0m\u001b[0;34m(\u001b[0m\u001b[0;34m*\u001b[0m\u001b[0margs\u001b[0m\u001b[0;34m,\u001b[0m \u001b[0;34m**\u001b[0m\u001b[0mkwargs\u001b[0m\u001b[0;34m)\u001b[0m\u001b[0;34m:\u001b[0m\u001b[0;34m\u001b[0m\u001b[0;34m\u001b[0m\u001b[0m\n\u001b[1;32m     41\u001b[0m             \u001b[0mself\u001b[0m\u001b[0;34m.\u001b[0m\u001b[0mcreate\u001b[0m\u001b[0;34m(\u001b[0m\u001b[0;34m)\u001b[0m\u001b[0;34m\u001b[0m\u001b[0;34m\u001b[0m\u001b[0m\n\u001b[0;32m---> 42\u001b[0;31m             \u001b[0mself\u001b[0m\u001b[0;34m.\u001b[0m\u001b[0mtransform_function_ret_handler\u001b[0m\u001b[0;34m(\u001b[0m\u001b[0mfunction\u001b[0m\u001b[0;34m(\u001b[0m\u001b[0;34m*\u001b[0m\u001b[0margs\u001b[0m\u001b[0;34m,\u001b[0m \u001b[0;34m**\u001b[0m\u001b[0mkwargs\u001b[0m\u001b[0;34m)\u001b[0m\u001b[0;34m)\u001b[0m\u001b[0;34m\u001b[0m\u001b[0;34m\u001b[0m\u001b[0m\n\u001b[0m\u001b[1;32m     43\u001b[0m \u001b[0;34m\u001b[0m\u001b[0m\n\u001b[1;32m     44\u001b[0m         \u001b[0;32mreturn\u001b[0m \u001b[0mdecorator\u001b[0m\u001b[0;34m\u001b[0m\u001b[0;34m\u001b[0m\u001b[0m\n",
      "\u001b[0;32m~/.pyenv/versions/3.7.2/lib/python3.7/site-packages/marlin/ingestion/batch_ingestion_client.py\u001b[0m in \u001b[0;36mtransform_function_ret_handler\u001b[0;34m(self, ret_val)\u001b[0m\n\u001b[1;32m     46\u001b[0m \u001b[0;34m\u001b[0m\u001b[0m\n\u001b[1;32m     47\u001b[0m     \u001b[0;32mdef\u001b[0m \u001b[0mtransform_function_ret_handler\u001b[0m\u001b[0;34m(\u001b[0m\u001b[0mself\u001b[0m\u001b[0;34m,\u001b[0m \u001b[0mret_val\u001b[0m\u001b[0;34m)\u001b[0m\u001b[0;34m:\u001b[0m\u001b[0;34m\u001b[0m\u001b[0;34m\u001b[0m\u001b[0m\n\u001b[0;32m---> 48\u001b[0;31m         \u001b[0mself\u001b[0m\u001b[0;34m.\u001b[0m\u001b[0mclient\u001b[0m\u001b[0;34m.\u001b[0m\u001b[0mstore\u001b[0m\u001b[0;34m(\u001b[0m\u001b[0mret_val\u001b[0m\u001b[0;34m)\u001b[0m\u001b[0;34m\u001b[0m\u001b[0;34m\u001b[0m\u001b[0m\n\u001b[0m",
      "\u001b[0;32m~/.pyenv/versions/3.7.2/lib/python3.7/site-packages/marlin/ingestion/batch_ingestion_client.py\u001b[0m in \u001b[0;36mstore\u001b[0;34m(self, df)\u001b[0m\n\u001b[1;32m     13\u001b[0m \u001b[0;34m\u001b[0m\u001b[0m\n\u001b[1;32m     14\u001b[0m     \u001b[0;32mdef\u001b[0m \u001b[0mstore\u001b[0m\u001b[0;34m(\u001b[0m\u001b[0mself\u001b[0m\u001b[0;34m,\u001b[0m \u001b[0mdf\u001b[0m\u001b[0;34m)\u001b[0m\u001b[0;34m:\u001b[0m\u001b[0;34m\u001b[0m\u001b[0;34m\u001b[0m\u001b[0m\n\u001b[0;32m---> 15\u001b[0;31m         \u001b[0mself\u001b[0m\u001b[0;34m.\u001b[0m\u001b[0mbatch_store\u001b[0m\u001b[0;34m.\u001b[0m\u001b[0mstore_dataframe\u001b[0m\u001b[0;34m(\u001b[0m\u001b[0mdf\u001b[0m\u001b[0;34m,\u001b[0m \u001b[0mself\u001b[0m\u001b[0;34m.\u001b[0m\u001b[0mdefinition\u001b[0m\u001b[0;34m)\u001b[0m\u001b[0;34m\u001b[0m\u001b[0;34m\u001b[0m\u001b[0m\n\u001b[0m\u001b[1;32m     16\u001b[0m \u001b[0;34m\u001b[0m\u001b[0m\n\u001b[1;32m     17\u001b[0m \u001b[0;34m\u001b[0m\u001b[0m\n",
      "\u001b[0;32m~/.pyenv/versions/3.7.2/lib/python3.7/site-packages/marlin/batch_store/pandas_batch_store.py\u001b[0m in \u001b[0;36mstore_dataframe\u001b[0;34m(self, df, definition)\u001b[0m\n\u001b[1;32m     47\u001b[0m \u001b[0;34m\u001b[0m\u001b[0m\n\u001b[1;32m     48\u001b[0m         \u001b[0mresult_df\u001b[0m \u001b[0;34m=\u001b[0m \u001b[0mdf\u001b[0m\u001b[0;34m.\u001b[0m\u001b[0mapply\u001b[0m\u001b[0;34m(\u001b[0m\u001b[0;32mlambda\u001b[0m \u001b[0mrow\u001b[0m\u001b[0;34m:\u001b[0m \u001b[0mself\u001b[0m\u001b[0;34m.\u001b[0m\u001b[0m__send_row\u001b[0m\u001b[0;34m(\u001b[0m\u001b[0mrow\u001b[0m\u001b[0;34m,\u001b[0m \u001b[0mentities\u001b[0m\u001b[0;34m,\u001b[0m \u001b[0mfeatures\u001b[0m\u001b[0;34m,\u001b[0m \u001b[0mdefinition\u001b[0m\u001b[0;34m)\u001b[0m\u001b[0;34m,\u001b[0m \u001b[0maxis\u001b[0m\u001b[0;34m=\u001b[0m\u001b[0;36m1\u001b[0m\u001b[0;34m)\u001b[0m\u001b[0;34m\u001b[0m\u001b[0;34m\u001b[0m\u001b[0m\n\u001b[0;32m---> 49\u001b[0;31m         \u001b[0;32mreturn\u001b[0m \u001b[0mresult_df\u001b[0m\u001b[0;34m.\u001b[0m\u001b[0mapply\u001b[0m\u001b[0;34m(\u001b[0m\u001b[0;32mlambda\u001b[0m \u001b[0mx\u001b[0m\u001b[0;34m:\u001b[0m \u001b[0mx\u001b[0m\u001b[0;34m.\u001b[0m\u001b[0mresult\u001b[0m\u001b[0;34m(\u001b[0m\u001b[0;34m)\u001b[0m\u001b[0;34m)\u001b[0m\u001b[0;34m\u001b[0m\u001b[0;34m\u001b[0m\u001b[0m\n\u001b[0m\u001b[1;32m     50\u001b[0m \u001b[0;34m\u001b[0m\u001b[0m\n\u001b[1;32m     51\u001b[0m     def __send_row(self,\n",
      "\u001b[0;32m~/.pyenv/versions/3.7.2/lib/python3.7/site-packages/pandas/core/series.py\u001b[0m in \u001b[0;36mapply\u001b[0;34m(self, func, convert_dtype, args, **kwds)\u001b[0m\n\u001b[1;32m   4198\u001b[0m             \u001b[0;32melse\u001b[0m\u001b[0;34m:\u001b[0m\u001b[0;34m\u001b[0m\u001b[0;34m\u001b[0m\u001b[0m\n\u001b[1;32m   4199\u001b[0m                 \u001b[0mvalues\u001b[0m \u001b[0;34m=\u001b[0m \u001b[0mself\u001b[0m\u001b[0;34m.\u001b[0m\u001b[0mastype\u001b[0m\u001b[0;34m(\u001b[0m\u001b[0mobject\u001b[0m\u001b[0;34m)\u001b[0m\u001b[0;34m.\u001b[0m\u001b[0m_values\u001b[0m\u001b[0;34m\u001b[0m\u001b[0;34m\u001b[0m\u001b[0m\n\u001b[0;32m-> 4200\u001b[0;31m                 \u001b[0mmapped\u001b[0m \u001b[0;34m=\u001b[0m \u001b[0mlib\u001b[0m\u001b[0;34m.\u001b[0m\u001b[0mmap_infer\u001b[0m\u001b[0;34m(\u001b[0m\u001b[0mvalues\u001b[0m\u001b[0;34m,\u001b[0m \u001b[0mf\u001b[0m\u001b[0;34m,\u001b[0m \u001b[0mconvert\u001b[0m\u001b[0;34m=\u001b[0m\u001b[0mconvert_dtype\u001b[0m\u001b[0;34m)\u001b[0m\u001b[0;34m\u001b[0m\u001b[0;34m\u001b[0m\u001b[0m\n\u001b[0m\u001b[1;32m   4201\u001b[0m \u001b[0;34m\u001b[0m\u001b[0m\n\u001b[1;32m   4202\u001b[0m         \u001b[0;32mif\u001b[0m \u001b[0mlen\u001b[0m\u001b[0;34m(\u001b[0m\u001b[0mmapped\u001b[0m\u001b[0;34m)\u001b[0m \u001b[0;32mand\u001b[0m \u001b[0misinstance\u001b[0m\u001b[0;34m(\u001b[0m\u001b[0mmapped\u001b[0m\u001b[0;34m[\u001b[0m\u001b[0;36m0\u001b[0m\u001b[0;34m]\u001b[0m\u001b[0;34m,\u001b[0m \u001b[0mSeries\u001b[0m\u001b[0;34m)\u001b[0m\u001b[0;34m:\u001b[0m\u001b[0;34m\u001b[0m\u001b[0;34m\u001b[0m\u001b[0m\n",
      "\u001b[0;32mpandas/_libs/lib.pyx\u001b[0m in \u001b[0;36mpandas._libs.lib.map_infer\u001b[0;34m()\u001b[0m\n",
      "\u001b[0;32m~/.pyenv/versions/3.7.2/lib/python3.7/site-packages/marlin/batch_store/pandas_batch_store.py\u001b[0m in \u001b[0;36m<lambda>\u001b[0;34m(x)\u001b[0m\n\u001b[1;32m     47\u001b[0m \u001b[0;34m\u001b[0m\u001b[0m\n\u001b[1;32m     48\u001b[0m         \u001b[0mresult_df\u001b[0m \u001b[0;34m=\u001b[0m \u001b[0mdf\u001b[0m\u001b[0;34m.\u001b[0m\u001b[0mapply\u001b[0m\u001b[0;34m(\u001b[0m\u001b[0;32mlambda\u001b[0m \u001b[0mrow\u001b[0m\u001b[0;34m:\u001b[0m \u001b[0mself\u001b[0m\u001b[0;34m.\u001b[0m\u001b[0m__send_row\u001b[0m\u001b[0;34m(\u001b[0m\u001b[0mrow\u001b[0m\u001b[0;34m,\u001b[0m \u001b[0mentities\u001b[0m\u001b[0;34m,\u001b[0m \u001b[0mfeatures\u001b[0m\u001b[0;34m,\u001b[0m \u001b[0mdefinition\u001b[0m\u001b[0;34m)\u001b[0m\u001b[0;34m,\u001b[0m \u001b[0maxis\u001b[0m\u001b[0;34m=\u001b[0m\u001b[0;36m1\u001b[0m\u001b[0;34m)\u001b[0m\u001b[0;34m\u001b[0m\u001b[0;34m\u001b[0m\u001b[0m\n\u001b[0;32m---> 49\u001b[0;31m         \u001b[0;32mreturn\u001b[0m \u001b[0mresult_df\u001b[0m\u001b[0;34m.\u001b[0m\u001b[0mapply\u001b[0m\u001b[0;34m(\u001b[0m\u001b[0;32mlambda\u001b[0m \u001b[0mx\u001b[0m\u001b[0;34m:\u001b[0m \u001b[0mx\u001b[0m\u001b[0;34m.\u001b[0m\u001b[0mresult\u001b[0m\u001b[0;34m(\u001b[0m\u001b[0;34m)\u001b[0m\u001b[0;34m)\u001b[0m\u001b[0;34m\u001b[0m\u001b[0;34m\u001b[0m\u001b[0m\n\u001b[0m\u001b[1;32m     50\u001b[0m \u001b[0;34m\u001b[0m\u001b[0m\n\u001b[1;32m     51\u001b[0m     def __send_row(self,\n",
      "\u001b[0;32m~/.pyenv/versions/3.7.2/lib/python3.7/site-packages/grpc/_channel.py\u001b[0m in \u001b[0;36mresult\u001b[0;34m(self, timeout)\u001b[0m\n\u001b[1;32m    623\u001b[0m                     \u001b[0;32mraise\u001b[0m \u001b[0mgrpc\u001b[0m\u001b[0;34m.\u001b[0m\u001b[0mFutureCancelledError\u001b[0m\u001b[0;34m(\u001b[0m\u001b[0;34m)\u001b[0m\u001b[0;34m\u001b[0m\u001b[0;34m\u001b[0m\u001b[0m\n\u001b[1;32m    624\u001b[0m                 \u001b[0;32melse\u001b[0m\u001b[0;34m:\u001b[0m\u001b[0;34m\u001b[0m\u001b[0;34m\u001b[0m\u001b[0m\n\u001b[0;32m--> 625\u001b[0;31m                     \u001b[0;32mraise\u001b[0m \u001b[0mself\u001b[0m\u001b[0;34m\u001b[0m\u001b[0;34m\u001b[0m\u001b[0m\n\u001b[0m\u001b[1;32m    626\u001b[0m \u001b[0;34m\u001b[0m\u001b[0m\n\u001b[1;32m    627\u001b[0m     \u001b[0;32mdef\u001b[0m \u001b[0mexception\u001b[0m\u001b[0;34m(\u001b[0m\u001b[0mself\u001b[0m\u001b[0;34m,\u001b[0m \u001b[0mtimeout\u001b[0m\u001b[0;34m=\u001b[0m\u001b[0;32mNone\u001b[0m\u001b[0;34m)\u001b[0m\u001b[0;34m:\u001b[0m\u001b[0;34m\u001b[0m\u001b[0;34m\u001b[0m\u001b[0m\n",
      "\u001b[0;31m_MultiThreadedRendezvous\u001b[0m: <_MultiThreadedRendezvous of RPC that terminated with:\n\tstatus = StatusCode.UNAVAILABLE\n\tdetails = \"Socket closed\"\n\tdebug_error_string = \"{\"created\":\"@1606762029.102559000\",\"description\":\"Error received from peer ipv4:34.213.53.17:443\",\"file\":\"src/core/lib/surface/call.cc\",\"file_line\":1062,\"grpc_message\":\"Socket closed\",\"grpc_status\":14}\"\n>"
     ]
    }
   ],
   "source": [
    "process()"
   ]
  },
  {
   "cell_type": "code",
   "execution_count": 8,
   "metadata": {},
   "outputs": [],
   "source": [
    "exploration_client = marlin.client().exploration_client()"
   ]
  },
  {
   "cell_type": "code",
   "execution_count": 9,
   "metadata": {},
   "outputs": [
    {
     "data": {
      "text/plain": [
       "transform_key {\n",
       "  transform_name: \"transform_1\"\n",
       "  version: \"1\"\n",
       "}"
      ]
     },
     "execution_count": 9,
     "metadata": {},
     "output_type": "execute_result"
    }
   ],
   "source": [
    "exploration_client.list_all_transform()"
   ]
  },
  {
   "cell_type": "code",
   "execution_count": 10,
   "metadata": {},
   "outputs": [
    {
     "data": {
      "text/plain": [
       "['2020-11-30-06', '2020-11-30-07', '2020-11-30-08', '2020-11-30-18']"
      ]
     },
     "execution_count": 10,
     "metadata": {},
     "output_type": "execute_result"
    }
   ],
   "source": [
    "exploration_client.list_partitions('transform_1', '1')"
   ]
  },
  {
   "cell_type": "code",
   "execution_count": 11,
   "metadata": {},
   "outputs": [
    {
     "data": {
      "text/html": [
       "<div>\n",
       "<style scoped>\n",
       "    .dataframe tbody tr th:only-of-type {\n",
       "        vertical-align: middle;\n",
       "    }\n",
       "\n",
       "    .dataframe tbody tr th {\n",
       "        vertical-align: top;\n",
       "    }\n",
       "\n",
       "    .dataframe thead th {\n",
       "        text-align: right;\n",
       "    }\n",
       "</style>\n",
       "<table border=\"1\" class=\"dataframe\">\n",
       "  <thead>\n",
       "    <tr style=\"text-align: right;\">\n",
       "      <th></th>\n",
       "      <th>ingestion_time</th>\n",
       "      <th>event_time</th>\n",
       "      <th>cust_id</th>\n",
       "      <th>age</th>\n",
       "      <th>education</th>\n",
       "      <th>job</th>\n",
       "      <th>marital</th>\n",
       "    </tr>\n",
       "  </thead>\n",
       "  <tbody>\n",
       "    <tr>\n",
       "      <th>0</th>\n",
       "      <td>1606723061704</td>\n",
       "      <td>1588230000</td>\n",
       "      <td>100</td>\n",
       "      <td>56</td>\n",
       "      <td>basic.4y</td>\n",
       "      <td>housemaid</td>\n",
       "      <td>married</td>\n",
       "    </tr>\n",
       "    <tr>\n",
       "      <th>1</th>\n",
       "      <td>1606723062208</td>\n",
       "      <td>1588230000</td>\n",
       "      <td>102</td>\n",
       "      <td>37</td>\n",
       "      <td>high.school</td>\n",
       "      <td>services</td>\n",
       "      <td>married</td>\n",
       "    </tr>\n",
       "    <tr>\n",
       "      <th>2</th>\n",
       "      <td>1606723062208</td>\n",
       "      <td>1588230000</td>\n",
       "      <td>103</td>\n",
       "      <td>40</td>\n",
       "      <td>basic.6y</td>\n",
       "      <td>admin.</td>\n",
       "      <td>married</td>\n",
       "    </tr>\n",
       "    <tr>\n",
       "      <th>3</th>\n",
       "      <td>1606723062208</td>\n",
       "      <td>1588230000</td>\n",
       "      <td>104</td>\n",
       "      <td>56</td>\n",
       "      <td>high.school</td>\n",
       "      <td>services</td>\n",
       "      <td>married</td>\n",
       "    </tr>\n",
       "    <tr>\n",
       "      <th>4</th>\n",
       "      <td>1606723062208</td>\n",
       "      <td>1588230000</td>\n",
       "      <td>105</td>\n",
       "      <td>45</td>\n",
       "      <td>basic.9y</td>\n",
       "      <td>services</td>\n",
       "      <td>married</td>\n",
       "    </tr>\n",
       "    <tr>\n",
       "      <th>...</th>\n",
       "      <td>...</td>\n",
       "      <td>...</td>\n",
       "      <td>...</td>\n",
       "      <td>...</td>\n",
       "      <td>...</td>\n",
       "      <td>...</td>\n",
       "      <td>...</td>\n",
       "    </tr>\n",
       "    <tr>\n",
       "      <th>9992</th>\n",
       "      <td>1606724444441</td>\n",
       "      <td>1588230000</td>\n",
       "      <td>36030</td>\n",
       "      <td>46</td>\n",
       "      <td>university.degree</td>\n",
       "      <td>admin.</td>\n",
       "      <td>single</td>\n",
       "    </tr>\n",
       "    <tr>\n",
       "      <th>9993</th>\n",
       "      <td>1606724444441</td>\n",
       "      <td>1588230000</td>\n",
       "      <td>36029</td>\n",
       "      <td>37</td>\n",
       "      <td>professional.course</td>\n",
       "      <td>blue-collar</td>\n",
       "      <td>single</td>\n",
       "    </tr>\n",
       "    <tr>\n",
       "      <th>9994</th>\n",
       "      <td>1606724444441</td>\n",
       "      <td>1588230000</td>\n",
       "      <td>36028</td>\n",
       "      <td>42</td>\n",
       "      <td>university.degree</td>\n",
       "      <td>entrepreneur</td>\n",
       "      <td>married</td>\n",
       "    </tr>\n",
       "    <tr>\n",
       "      <th>9995</th>\n",
       "      <td>1606724444441</td>\n",
       "      <td>1588230000</td>\n",
       "      <td>36027</td>\n",
       "      <td>62</td>\n",
       "      <td>university.degree</td>\n",
       "      <td>retired</td>\n",
       "      <td>single</td>\n",
       "    </tr>\n",
       "    <tr>\n",
       "      <th>9996</th>\n",
       "      <td>1606724444441</td>\n",
       "      <td>1588230000</td>\n",
       "      <td>36026</td>\n",
       "      <td>52</td>\n",
       "      <td>basic.6y</td>\n",
       "      <td>entrepreneur</td>\n",
       "      <td>married</td>\n",
       "    </tr>\n",
       "  </tbody>\n",
       "</table>\n",
       "<p>9997 rows × 7 columns</p>\n",
       "</div>"
      ],
      "text/plain": [
       "      ingestion_time  event_time  cust_id  age            education  \\\n",
       "0      1606723061704  1588230000      100   56             basic.4y   \n",
       "1      1606723062208  1588230000      102   37          high.school   \n",
       "2      1606723062208  1588230000      103   40             basic.6y   \n",
       "3      1606723062208  1588230000      104   56          high.school   \n",
       "4      1606723062208  1588230000      105   45             basic.9y   \n",
       "...              ...         ...      ...  ...                  ...   \n",
       "9992   1606724444441  1588230000    36030   46    university.degree   \n",
       "9993   1606724444441  1588230000    36029   37  professional.course   \n",
       "9994   1606724444441  1588230000    36028   42    university.degree   \n",
       "9995   1606724444441  1588230000    36027   62    university.degree   \n",
       "9996   1606724444441  1588230000    36026   52             basic.6y   \n",
       "\n",
       "               job  marital  \n",
       "0        housemaid  married  \n",
       "1         services  married  \n",
       "2           admin.  married  \n",
       "3         services  married  \n",
       "4         services  married  \n",
       "...            ...      ...  \n",
       "9992        admin.   single  \n",
       "9993   blue-collar   single  \n",
       "9994  entrepreneur  married  \n",
       "9995       retired   single  \n",
       "9996  entrepreneur  married  \n",
       "\n",
       "[9997 rows x 7 columns]"
      ]
     },
     "execution_count": 11,
     "metadata": {},
     "output_type": "execute_result"
    }
   ],
   "source": [
    "exploration_client.read_between_partitions('transform_1', '1', '2020-11-30-07', '2020-11-30-08')"
   ]
  },
  {
   "cell_type": "code",
   "execution_count": 12,
   "metadata": {},
   "outputs": [
    {
     "data": {
      "text/plain": [
       "'+--- transform_1:1'"
      ]
     },
     "execution_count": 12,
     "metadata": {},
     "output_type": "execute_result"
    }
   ],
   "source": [
    "exploration_client.transform_dependency_graph_str('transform_1', '1')"
   ]
  },
  {
   "cell_type": "code",
   "execution_count": null,
   "metadata": {},
   "outputs": [],
   "source": []
  }
 ],
 "metadata": {
  "kernelspec": {
   "display_name": "Python 3",
   "language": "python",
   "name": "python3"
  },
  "language_info": {
   "codemirror_mode": {
    "name": "ipython",
    "version": 3
   },
   "file_extension": ".py",
   "mimetype": "text/x-python",
   "name": "python",
   "nbconvert_exporter": "python",
   "pygments_lexer": "ipython3",
   "version": "3.7.2"
  }
 },
 "nbformat": 4,
 "nbformat_minor": 4
}
